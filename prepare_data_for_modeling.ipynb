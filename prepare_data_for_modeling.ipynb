{
  "nbformat": 4,
  "nbformat_minor": 0,
  "metadata": {
    "colab": {
      "provenance": [],
      "authorship_tag": "ABX9TyMkeWCJENzPDUkJ2zV6py5k",
      "include_colab_link": true
    },
    "kernelspec": {
      "name": "python3",
      "display_name": "Python 3"
    },
    "language_info": {
      "name": "python"
    }
  },
  "cells": [
    {
      "cell_type": "markdown",
      "metadata": {
        "id": "view-in-github",
        "colab_type": "text"
      },
      "source": [
        "<a href=\"https://colab.research.google.com/github/moni-sarah/-GitHub-Actions/blob/main/prepare_data_for_modeling.ipynb\" target=\"_parent\"><img src=\"https://colab.research.google.com/assets/colab-badge.svg\" alt=\"Open In Colab\"/></a>"
      ]
    },
    {
      "cell_type": "code",
      "execution_count": 1,
      "metadata": {
        "colab": {
          "base_uri": "https://localhost:8080/"
        },
        "id": "cPQQC4cbeEs6",
        "outputId": "bdfb40be-aa82-4b41-c6b4-0aa4c1b9cf1f"
      },
      "outputs": [
        {
          "output_type": "stream",
          "name": "stdout",
          "text": [
            "         income  credit_score  age   loan_amount job_title marital_status  \\\n",
            "0  57450.712295    719.967772   50   5993.260089  Engineer         Single   \n",
            "1  47926.035482    696.231684   51  20143.320598    Lawyer       Divorced   \n",
            "2  59715.328072    652.981518   58  24176.736985   Teacher        Married   \n",
            "3  72845.447846    617.653161   31  28469.970877    Doctor       Divorced   \n",
            "4  46487.699379    684.911166   55  21748.177688   Teacher       Divorced   \n",
            "\n",
            "  education_level  num_dependents  target  \n",
            "0          Master               0       1  \n",
            "1             PhD               1       0  \n",
            "2        Bachelor               1       1  \n",
            "3          Master               1       0  \n",
            "4        Bachelor               2       0  \n"
          ]
        }
      ],
      "source": [
        "import numpy as np\n",
        "import pandas as pd\n",
        "\n",
        "# Set seed for reproducibility\n",
        "np.random.seed(42)\n",
        "n_samples = 1000  # increased number of samples\n",
        "\n",
        "# Generate synthetic dataset\n",
        "data = {\n",
        "    'income': np.random.normal(50000, 15000, n_samples).clip(10000, 200000),\n",
        "    'credit_score': np.random.normal(650, 50, n_samples).clip(300, 850),\n",
        "    'age': np.random.randint(21, 70, n_samples),\n",
        "    'loan_amount': np.random.normal(20000, 10000, n_samples).clip(1000, 100000),\n",
        "    'job_title': np.random.choice(['Engineer', 'Teacher', 'Doctor', 'Artist', 'Lawyer', 'Nurse', 'Salesperson'], n_samples),\n",
        "    'marital_status': np.random.choice(['Single', 'Married', 'Divorced', 'Widowed'], n_samples),\n",
        "    'education_level': np.random.choice(['High School', 'Bachelor', 'Master', 'PhD'], n_samples),\n",
        "    'num_dependents': np.random.poisson(1.5, n_samples),\n",
        "    'target': np.random.choice([0, 1], n_samples, p=[0.7, 0.3])  # Example: 30% positive class\n",
        "}\n",
        "\n",
        "# Convert to DataFrame for preview or export\n",
        "df = pd.DataFrame(data)\n",
        "print(df.head())\n"
      ]
    },
    {
      "cell_type": "code",
      "source": [
        "# Step 2: Handle missing values\n",
        "\n",
        "# Handle missing values for numeric columns by filling with the median\n",
        "for column in df.select_dtypes(include=['float64', 'int64']).columns:\n",
        "    df[column].fillna(df[column].median(), inplace=True)\n",
        "\n",
        "# Handle missing values for categorical columns by filling with the mode\n",
        "for column in df.select_dtypes(include=['object', 'category']).columns:\n",
        "    df[column].fillna(df[column].mode()[0], inplace=True)\n"
      ],
      "metadata": {
        "colab": {
          "base_uri": "https://localhost:8080/"
        },
        "id": "Bqp-cxYNedGW",
        "outputId": "30632a70-58b9-4aee-b6bb-f4bc63b85f16"
      },
      "execution_count": 2,
      "outputs": [
        {
          "output_type": "stream",
          "name": "stderr",
          "text": [
            "/tmp/ipython-input-2033646512.py:5: FutureWarning: A value is trying to be set on a copy of a DataFrame or Series through chained assignment using an inplace method.\n",
            "The behavior will change in pandas 3.0. This inplace method will never work because the intermediate object on which we are setting values always behaves as a copy.\n",
            "\n",
            "For example, when doing 'df[col].method(value, inplace=True)', try using 'df.method({col: value}, inplace=True)' or df[col] = df[col].method(value) instead, to perform the operation inplace on the original object.\n",
            "\n",
            "\n",
            "  df[column].fillna(df[column].median(), inplace=True)\n",
            "/tmp/ipython-input-2033646512.py:9: FutureWarning: A value is trying to be set on a copy of a DataFrame or Series through chained assignment using an inplace method.\n",
            "The behavior will change in pandas 3.0. This inplace method will never work because the intermediate object on which we are setting values always behaves as a copy.\n",
            "\n",
            "For example, when doing 'df[col].method(value, inplace=True)', try using 'df.method({col: value}, inplace=True)' or df[col] = df[col].method(value) instead, to perform the operation inplace on the original object.\n",
            "\n",
            "\n",
            "  df[column].fillna(df[column].mode()[0], inplace=True)\n"
          ]
        }
      ]
    },
    {
      "cell_type": "code",
      "source": [
        "print(\"\\nMissing values after handling:\")\n",
        "print(df.isnull().sum())"
      ],
      "metadata": {
        "colab": {
          "base_uri": "https://localhost:8080/"
        },
        "id": "LHHNWpwHekWU",
        "outputId": "b8dba0be-1039-4f72-d0b5-41b730d6bc12"
      },
      "execution_count": 3,
      "outputs": [
        {
          "output_type": "stream",
          "name": "stdout",
          "text": [
            "\n",
            "Missing values after handling:\n",
            "income             0\n",
            "credit_score       0\n",
            "age                0\n",
            "loan_amount        0\n",
            "job_title          0\n",
            "marital_status     0\n",
            "education_level    0\n",
            "num_dependents     0\n",
            "target             0\n",
            "dtype: int64\n"
          ]
        }
      ]
    },
    {
      "cell_type": "code",
      "source": [
        "num_duplicates = df.duplicated().sum()\n",
        "print(f\"Number of duplicate rows removed: {num_duplicates}\")\n",
        "df.drop_duplicates(inplace=True)\n"
      ],
      "metadata": {
        "colab": {
          "base_uri": "https://localhost:8080/"
        },
        "id": "-XLhOLi7em2k",
        "outputId": "d35876fc-07ab-459b-994c-6872360b8492"
      },
      "execution_count": 4,
      "outputs": [
        {
          "output_type": "stream",
          "name": "stdout",
          "text": [
            "Number of duplicate rows removed: 0\n"
          ]
        }
      ]
    },
    {
      "cell_type": "code",
      "source": [
        "# Step 4: Encode categorical variables using one-hot encoding\n",
        "categorical_cols = df.select_dtypes(include=['object', 'category']).columns\n",
        "\n",
        "df_encoded = pd.get_dummies(df, columns=categorical_cols, drop_first=True)\n"
      ],
      "metadata": {
        "id": "EoQozQ71ez92"
      },
      "execution_count": 5,
      "outputs": []
    },
    {
      "cell_type": "code",
      "source": [
        "print(f\"Original shape: {df.shape}\")\n",
        "print(f\"Encoded shape: {df_encoded.shape}\")\n"
      ],
      "metadata": {
        "colab": {
          "base_uri": "https://localhost:8080/"
        },
        "id": "yn_SScxLfz4_",
        "outputId": "a94e5d8d-109f-420c-ffc6-d9348a230d9d"
      },
      "execution_count": 6,
      "outputs": [
        {
          "output_type": "stream",
          "name": "stdout",
          "text": [
            "Original shape: (1000, 9)\n",
            "Encoded shape: (1000, 18)\n"
          ]
        }
      ]
    },
    {
      "cell_type": "code",
      "source": [
        "from scipy.stats import zscore\n",
        "\n",
        "# Step 5: Detect and remove outliers using Z-score\n",
        "\n",
        "# Compute Z-scores for numeric columns\n",
        "numeric_cols = df_encoded.select_dtypes(include=['float64', 'int64']).columns\n",
        "z_scores = np.abs(zscore(df_encoded[numeric_cols]))\n",
        "\n",
        "# Set a threshold for identifying outliers (commonly 3)\n",
        "threshold = 3\n",
        "mask = (z_scores < threshold).all(axis=1)\n",
        "\n",
        "# Filter out the outliers\n",
        "df_cleaned = df_encoded[mask]\n",
        "print(f\"Original rows: {df_encoded.shape[0]}\")\n",
        "print(f\"Rows after outlier removal: {df_cleaned.shape[0]}\")\n"
      ],
      "metadata": {
        "colab": {
          "base_uri": "https://localhost:8080/"
        },
        "id": "pbda2b-Wf-12",
        "outputId": "57033c60-ab76-4291-84ea-7078134c7796"
      },
      "execution_count": 7,
      "outputs": [
        {
          "output_type": "stream",
          "name": "stdout",
          "text": [
            "Original rows: 1000\n",
            "Rows after outlier removal: 984\n"
          ]
        }
      ]
    },
    {
      "cell_type": "code",
      "source": [
        "# Step 6: Address skewed data with log transformation\n",
        "\n",
        "# Identify numeric columns\n",
        "numeric_cols = df_cleaned.select_dtypes(include=['float64', 'int64']).columns\n",
        "\n",
        "# Check skewness\n",
        "skewed_cols = df_cleaned[numeric_cols].apply(lambda x: x.skew()).sort_values(ascending=False)\n",
        "print(\"Skewness before transformation:\\n\", skewed_cols)\n",
        "\n",
        "# Choose features with high skewness (e.g., abs(skew) > 1)\n",
        "high_skew = skewed_cols[abs(skewed_cols) > 1].index\n",
        "\n",
        "# Apply log1p (log(x + 1)) to handle zero or negative values\n",
        "df_cleaned[high_skew] = df_cleaned[high_skew].apply(lambda x: np.log1p(x))\n",
        "\n",
        "# Check skewness again\n",
        "print(\"\\nSkewness after transformation:\\n\", df_cleaned[high_skew].apply(lambda x: x.skew()))\n"
      ],
      "metadata": {
        "colab": {
          "base_uri": "https://localhost:8080/"
        },
        "id": "-QN9hhLWgGWo",
        "outputId": "bddad3ab-7551-4a57-ebe0-cb8f3a458fe6"
      },
      "execution_count": 8,
      "outputs": [
        {
          "output_type": "stream",
          "name": "stdout",
          "text": [
            "Skewness before transformation:\n",
            " target            0.995682\n",
            "num_dependents    0.507427\n",
            "loan_amount       0.114780\n",
            "income            0.080624\n",
            "age               0.002627\n",
            "credit_score     -0.055397\n",
            "dtype: float64\n",
            "\n",
            "Skewness after transformation:\n",
            " Series([], dtype: float64)\n"
          ]
        }
      ]
    },
    {
      "cell_type": "code",
      "source": [
        "from sklearn.model_selection import train_test_split\n",
        "\n",
        "# Step 7: Split the dataset into features and target\n",
        "X = df_cleaned.drop('target', axis=1)\n",
        "y = df_cleaned['target']\n",
        "\n",
        "# Split into training and testing sets (e.g., 80% train, 20% test)\n",
        "X_train, X_test, y_train, y_test = train_test_split(\n",
        "    X, y, test_size=0.2, random_state=42, stratify=y\n",
        ")\n",
        "\n",
        "# Show the result\n",
        "print(f\"Training samples: {X_train.shape[0]}\")\n",
        "print(f\"Testing samples: {X_test.shape[0]}\")\n"
      ],
      "metadata": {
        "colab": {
          "base_uri": "https://localhost:8080/"
        },
        "id": "mcfgeeHtgRip",
        "outputId": "df577035-0085-41db-b187-b58b5f1f4d09"
      },
      "execution_count": 9,
      "outputs": [
        {
          "output_type": "stream",
          "name": "stdout",
          "text": [
            "Training samples: 787\n",
            "Testing samples: 197\n"
          ]
        }
      ]
    }
  ]
}