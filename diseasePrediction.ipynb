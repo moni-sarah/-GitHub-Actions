{
  "nbformat": 4,
  "nbformat_minor": 0,
  "metadata": {
    "colab": {
      "provenance": [],
      "authorship_tag": "ABX9TyOZ4Xba3p3UwkrhxH4vm0Ud",
      "include_colab_link": true
    },
    "kernelspec": {
      "name": "python3",
      "display_name": "Python 3"
    },
    "language_info": {
      "name": "python"
    }
  },
  "cells": [
    {
      "cell_type": "markdown",
      "metadata": {
        "id": "view-in-github",
        "colab_type": "text"
      },
      "source": [
        "<a href=\"https://colab.research.google.com/github/moni-sarah/-GitHub-Actions/blob/main/diseasePrediction.ipynb\" target=\"_parent\"><img src=\"https://colab.research.google.com/assets/colab-badge.svg\" alt=\"Open In Colab\"/></a>"
      ]
    },
    {
      "cell_type": "code",
      "execution_count": 7,
      "metadata": {
        "colab": {
          "base_uri": "https://localhost:8080/",
          "height": 1000
        },
        "id": "IdBCqxgu-4g8",
        "outputId": "f38c144b-9541-411c-c76d-b5298fcb31e3"
      },
      "outputs": [
        {
          "output_type": "stream",
          "name": "stdout",
          "text": [
            "Accuracy: 1.0\n",
            "Top-3 Accuracy: 1.0\n",
            "\n",
            "Classification report:\n",
            "                                          precision    recall  f1-score   support\n",
            "\n",
            "(vertigo) Paroymsal  Positional Vertigo       1.00      1.00      1.00        24\n",
            "                                   AIDS       1.00      1.00      1.00        24\n",
            "                                   Acne       1.00      1.00      1.00        24\n",
            "                    Alcoholic hepatitis       1.00      1.00      1.00        24\n",
            "                                Allergy       1.00      1.00      1.00        24\n",
            "                              Arthritis       1.00      1.00      1.00        24\n",
            "                       Bronchial Asthma       1.00      1.00      1.00        24\n",
            "                   Cervical spondylosis       1.00      1.00      1.00        24\n",
            "                            Chicken pox       1.00      1.00      1.00        24\n",
            "                    Chronic cholestasis       1.00      1.00      1.00        24\n",
            "                            Common Cold       1.00      1.00      1.00        24\n",
            "                                 Dengue       1.00      1.00      1.00        24\n",
            "                              Diabetes        1.00      1.00      1.00        24\n",
            "           Dimorphic hemmorhoids(piles)       1.00      1.00      1.00        24\n",
            "                          Drug Reaction       1.00      1.00      1.00        24\n",
            "                       Fungal infection       1.00      1.00      1.00        24\n",
            "                                   GERD       1.00      1.00      1.00        24\n",
            "                        Gastroenteritis       1.00      1.00      1.00        24\n",
            "                           Heart attack       1.00      1.00      1.00        24\n",
            "                            Hepatitis B       1.00      1.00      1.00        24\n",
            "                            Hepatitis C       1.00      1.00      1.00        24\n",
            "                            Hepatitis D       1.00      1.00      1.00        24\n",
            "                            Hepatitis E       1.00      1.00      1.00        24\n",
            "                          Hypertension        1.00      1.00      1.00        24\n",
            "                        Hyperthyroidism       1.00      1.00      1.00        24\n",
            "                           Hypoglycemia       1.00      1.00      1.00        24\n",
            "                         Hypothyroidism       1.00      1.00      1.00        24\n",
            "                               Impetigo       1.00      1.00      1.00        24\n",
            "                               Jaundice       1.00      1.00      1.00        24\n",
            "                                Malaria       1.00      1.00      1.00        24\n",
            "                               Migraine       1.00      1.00      1.00        24\n",
            "                        Osteoarthristis       1.00      1.00      1.00        24\n",
            "           Paralysis (brain hemorrhage)       1.00      1.00      1.00        24\n",
            "                    Peptic ulcer diseae       1.00      1.00      1.00        24\n",
            "                              Pneumonia       1.00      1.00      1.00        24\n",
            "                              Psoriasis       1.00      1.00      1.00        24\n",
            "                           Tuberculosis       1.00      1.00      1.00        24\n",
            "                                Typhoid       1.00      1.00      1.00        24\n",
            "                Urinary tract infection       1.00      1.00      1.00        24\n",
            "                         Varicose veins       1.00      1.00      1.00        24\n",
            "                            hepatitis A       1.00      1.00      1.00        24\n",
            "\n",
            "                               accuracy                           1.00       984\n",
            "                              macro avg       1.00      1.00      1.00       984\n",
            "                           weighted avg       1.00      1.00      1.00       984\n",
            "\n"
          ]
        },
        {
          "output_type": "display_data",
          "data": {
            "text/plain": [
              "<Figure size 600x500 with 2 Axes>"
            ],
            "image/png": "[encoded data removed]"
          },
          "metadata": {}
        },
        {
          "output_type": "execute_result",
          "data": {
            "text/plain": [
              "('/mnt/data/disease_model.pkl',\n",
              " '/mnt/data/symptom_cols.pkl',\n",
              " '/mnt/data/label_encoder.pkl',\n",
              " '/mnt/data/merged_dataset.csv')"
            ]
          },
          "metadata": {},
          "execution_count": 7
        }
      ],
      "source": [
        "# Rebuild a clean ML dataset with normalized symptom names, then train and evaluate a strong baseline.\n",
        "import pandas as pd\n",
        "import numpy as np\n",
        "import re\n",
        "from sklearn.model_selection import train_test_split, StratifiedKFold, cross_val_score\n",
        "from sklearn.metrics import accuracy_score, classification_report, top_k_accuracy_score, confusion_matrix\n",
        "from sklearn.ensemble import RandomForestClassifier\n",
        "from sklearn.preprocessing import LabelEncoder\n",
        "from sklearn.calibration import CalibratedClassifierCV\n",
        "import joblib\n",
        "import matplotlib.pyplot as plt\n",
        "import os\n",
        "\n",
        "# -----------------------------\n",
        "# 1) Reload raw inputs\n",
        "# -----------------------------\n",
        "df_cases = pd.read_csv(\"/content/dataset.csv\")\n",
        "df_desc = pd.read_csv(\"/content/symptom_Description.csv\")\n",
        "df_prec = pd.read_csv(\"/content/symptom_precaution.csv\")\n",
        "\n",
        "# -----------------------------\n",
        "# 2) Normalize symptom strings\n",
        "# -----------------------------\n",
        "symptom_cols = [c for c in df_cases.columns if c.lower().startswith(\"symptom_\")]\n",
        "\n",
        "def clean_symptom(x):\n",
        "    if pd.isna(x):\n",
        "        return np.nan\n",
        "    s = str(x).strip().lower()\n",
        "    # fix stray spaces around underscores and multiple spaces\n",
        "    s = re.sub(r\"\\s*_\\s*\", \"_\", s)\n",
        "    s = re.sub(r\"\\s+\", \" \", s)\n",
        "    s = s.replace(\" \", \"_\")\n",
        "    return s\n",
        "\n",
        "for c in symptom_cols:\n",
        "    df_cases[c] = df_cases[c].apply(clean_symptom)\n",
        "\n",
        "# -----------------------------\n",
        "# 3) Build Symptoms list per row\n",
        "# -----------------------------\n",
        "df_cases[\"Symptoms\"] = df_cases[symptom_cols].apply(\n",
        "    lambda row: [sym for sym in row if pd.notnull(sym)], axis=1\n",
        ")\n",
        "\n",
        "# -----------------------------\n",
        "# 4) Merge with descriptions & precautions\n",
        "# -----------------------------\n",
        "merged = df_cases[[\"Disease\", \"Symptoms\"]].merge(df_desc, on=\"Disease\", how=\"left\")\n",
        "merged = merged.merge(df_prec, on=\"Disease\", how=\"left\")\n",
        "\n",
        "# -----------------------------\n",
        "# 5) One-hot encode symptoms\n",
        "# -----------------------------\n",
        "all_symptoms = sorted({sym for row in merged[\"Symptoms\"] for sym in row})\n",
        "X_sym = pd.DataFrame(\n",
        "    [[1 if s in row else 0 for s in all_symptoms] for row in merged[\"Symptoms\"]],\n",
        "    columns=all_symptoms\n",
        ")\n",
        "ml_df = pd.concat([merged.drop(columns=[\"Symptoms\"]), X_sym], axis=1)\n",
        "\n",
        "# -----------------------------\n",
        "# 6) Train/Val split and label encoding\n",
        "# -----------------------------\n",
        "feature_cols = all_symptoms\n",
        "X = ml_df[feature_cols].copy()\n",
        "y_text = ml_df[\"Disease\"].copy()\n",
        "\n",
        "le = LabelEncoder()\n",
        "y = le.fit_transform(y_text)\n",
        "\n",
        "X_train, X_test, y_train, y_test, y_text_train, y_text_test = train_test_split(\n",
        "    X, y, y_text, test_size=0.2, random_state=42, stratify=y\n",
        ")\n",
        "\n",
        "# -----------------------------\n",
        "# 7) Strong baseline model\n",
        "#    - RandomForest with class_weight balanced\n",
        "#    - Probability calibration (isotonic) for better confidence outputs\n",
        "# -----------------------------\n",
        "base_rf = RandomForestClassifier(\n",
        "    n_estimators=400,\n",
        "    max_depth=None,\n",
        "    min_samples_split=2,\n",
        "    min_samples_leaf=1,\n",
        "    max_features=\"sqrt\",\n",
        "    class_weight=\"balanced\",\n",
        "    random_state=42,\n",
        "    n_jobs=-1\n",
        ")\n",
        "\n",
        "cal_rf = CalibratedClassifierCV(base_rf, method=\"isotonic\", cv=3)\n",
        "cal_rf.fit(X_train, y_train)\n",
        "\n",
        "# -----------------------------\n",
        "# 8) Evaluation\n",
        "# -----------------------------\n",
        "y_pred = cal_rf.predict(X_test)\n",
        "y_proba = cal_rf.predict_proba(X_test)\n",
        "\n",
        "acc = accuracy_score(y_test, y_pred)\n",
        "top3 = top_k_accuracy_score(y_test, y_proba, k=3)\n",
        "report = classification_report(y_test, y_pred, target_names=le.classes_)\n",
        "\n",
        "print(\"Accuracy:\", round(acc, 4))\n",
        "print(\"Top-3 Accuracy:\", round(top3, 4))\n",
        "print(\"\\nClassification report:\\n\", report)\n",
        "\n",
        "# Confusion matrix (normalized)\n",
        "cm = confusion_matrix(y_test, y_pred, normalize='true')\n",
        "fig, ax = plt.subplots(figsize=(6, 5))\n",
        "im = ax.imshow(cm, aspect='auto')\n",
        "ax.set_title(\"Normalized Confusion Matrix\")\n",
        "ax.set_xlabel(\"Predicted\")\n",
        "ax.set_ylabel(\"True\")\n",
        "plt.colorbar(im, ax=ax)\n",
        "plt.tight_layout()\n",
        "plt.show()\n",
        "\n",
        "# -----------------------------\n",
        "# 9) Persist artifacts for API\n",
        "# -----------------------------\n",
        "model_path = \"/mnt/data/disease_model.pkl\"\n",
        "cols_path = \"/mnt/data/symptom_cols.pkl\"\n",
        "le_path = \"/mnt/data/label_encoder.pkl\"\n",
        "clean_path = \"/mnt/data/merged_dataset.csv\"\n",
        "\n",
        "# Create the directory if it doesn't exist\n",
        "os.makedirs(\"/mnt/data\", exist_ok=True)\n",
        "\n",
        "joblib.dump(cal_rf, model_path)\n",
        "joblib.dump(feature_cols, cols_path)\n",
        "joblib.dump(le, le_path)\n",
        "ml_df.to_csv(clean_path, index=False)\n",
        "\n",
        "# Show saved file paths\n",
        "(model_path, cols_path, le_path, clean_path)"
      ]
    },
    {
      "cell_type": "code",
      "source": [
        "# app.py\n",
        "from fastapi import FastAPI\n",
        "from fastapi.middleware.cors import CORSMiddleware\n",
        "from pydantic import BaseModel, Field\n",
        "import joblib, pandas as pd, numpy as np\n",
        "from typing import List, Dict\n",
        "import os\n",
        "\n",
        "# --- Load artifacts ---\n",
        "MODEL = joblib.load(\"/mnt/data/disease_model.pkl\")\n",
        "SYMPTOMS: List[str] = joblib.load(\"/mnt/data/symptom_cols.pkl\")\n",
        "LE = joblib.load(\"/mnt/data/label_encoder.pkl\")\n",
        "META = pd.read_csv(\"/mnt/data/merged_dataset.csv\")\n",
        "\n",
        "# --- API setup ---\n",
        "app = FastAPI(title=\"Disease Prediction API\", version=\"1.0\")\n",
        "app.add_middleware(\n",
        "    CORSMiddleware,\n",
        "    allow_origins=[\"*\"], allow_credentials=True,\n",
        "    allow_methods=[\"*\"], allow_headers=[\"*\"]\n",
        ")\n",
        "\n",
        "class PredictIn(BaseModel):\n",
        "    symptoms: List[str] = Field(default_factory=list, description=\"symptom names (lowercase with underscores)\")\n",
        "    top_k: int = Field(default=3, ge=1, le=5)\n",
        "\n",
        "def lookup_meta(disease_name: str) -> Dict:\n",
        "    row = META[META[\"Disease\"] == disease_name].head(1)\n",
        "    if row.empty:\n",
        "        return {}\n",
        "    r = row.iloc[0]\n",
        "    return {\n",
        "        \"description\": r.get(\"Description\", None),\n",
        "        \"precautions\": [r.get(\"Precaution_1\"), r.get(\"Precaution_2\"),\n",
        "                        r.get(\"Precaution_3\"), r.get(\"Precaution_4\")]\n",
        "    }\n",
        "\n",
        "@app.post(\"/predict\")\n",
        "def predict(payload: PredictIn):\n",
        "    # one-hot encode input\n",
        "    x = np.array([1 if s in payload.symptoms else 0 for s in SYMPTOMS], dtype=np.int32).reshape(1, -1)\n",
        "\n",
        "    # calibrated probabilities\n",
        "    proba = MODEL.predict_proba(x)[0]\n",
        "    idx_sorted = np.argsort(proba)[::-1][:payload.top_k]\n",
        "    results = []\n",
        "    for i in idx_sorted:\n",
        "        disease = LE.inverse_transform([i])[0]\n",
        "        meta = lookup_meta(disease)\n",
        "        results.append({\n",
        "            \"disease\": disease,\n",
        "            \"confidence\": float(round(proba[i], 4)),\n",
        "            \"description\": meta.get(\"description\"),\n",
        "            \"precautions\": [p for p in meta.get(\"precautions\", []) if isinstance(p, str)]\n",
        "        })\n",
        "\n",
        "    return {\n",
        "        \"input_symptoms\": payload.symptoms,\n",
        "        \"predictions\": results\n",
        "    }"
      ],
      "metadata": {
        "colab": {
          "base_uri": "https://localhost:8080/",
          "height": 341
        },
        "id": "Vj1tKjgz6M73",
        "outputId": "36a7c22b-130f-4a40-d727-fa44412a077d"
      },
      "execution_count": null,
      "outputs": [
        {
          "output_type": "error",
          "ename": "FileNotFoundError",
          "evalue": "[Errno 2] No such file or directory: '/mnt/data/disease_model.pkl'",
          "traceback": [
            "\u001b[0;31m---------------------------------------------------------------------------\u001b[0m",
            "\u001b[0;31mFileNotFoundError\u001b[0m                         Traceback (most recent call last)",
            "\u001b[0;32m/tmp/ipython-input-3711788745.py\u001b[0m in \u001b[0;36m<cell line: 0>\u001b[0;34m()\u001b[0m\n\u001b[1;32m      8\u001b[0m \u001b[0;34m\u001b[0m\u001b[0m\n\u001b[1;32m      9\u001b[0m \u001b[0;31m# --- Load artifacts ---\u001b[0m\u001b[0;34m\u001b[0m\u001b[0;34m\u001b[0m\u001b[0m\n\u001b[0;32m---> 10\u001b[0;31m \u001b[0mMODEL\u001b[0m \u001b[0;34m=\u001b[0m \u001b[0mjoblib\u001b[0m\u001b[0;34m.\u001b[0m\u001b[0mload\u001b[0m\u001b[0;34m(\u001b[0m\u001b[0;34m\"/mnt/data/disease_model.pkl\"\u001b[0m\u001b[0;34m)\u001b[0m\u001b[0;34m\u001b[0m\u001b[0;34m\u001b[0m\u001b[0m\n\u001b[0m\u001b[1;32m     11\u001b[0m \u001b[0mSYMPTOMS\u001b[0m\u001b[0;34m:\u001b[0m \u001b[0mList\u001b[0m\u001b[0;34m[\u001b[0m\u001b[0mstr\u001b[0m\u001b[0;34m]\u001b[0m \u001b[0;34m=\u001b[0m \u001b[0mjoblib\u001b[0m\u001b[0;34m.\u001b[0m\u001b[0mload\u001b[0m\u001b[0;34m(\u001b[0m\u001b[0;34m\"/mnt/data/symptom_cols.pkl\"\u001b[0m\u001b[0;34m)\u001b[0m\u001b[0;34m\u001b[0m\u001b[0;34m\u001b[0m\u001b[0m\n\u001b[1;32m     12\u001b[0m \u001b[0mLE\u001b[0m \u001b[0;34m=\u001b[0m \u001b[0mjoblib\u001b[0m\u001b[0;34m.\u001b[0m\u001b[0mload\u001b[0m\u001b[0;34m(\u001b[0m\u001b[0;34m\"/mnt/data/label_encoder.pkl\"\u001b[0m\u001b[0;34m)\u001b[0m\u001b[0;34m\u001b[0m\u001b[0;34m\u001b[0m\u001b[0m\n",
            "\u001b[0;32m/usr/local/lib/python3.11/dist-packages/joblib/numpy_pickle.py\u001b[0m in \u001b[0;36mload\u001b[0;34m(filename, mmap_mode, ensure_native_byte_order)\u001b[0m\n\u001b[1;32m    733\u001b[0m             \u001b[0mobj\u001b[0m \u001b[0;34m=\u001b[0m \u001b[0m_unpickle\u001b[0m\u001b[0;34m(\u001b[0m\u001b[0mfobj\u001b[0m\u001b[0;34m,\u001b[0m \u001b[0mensure_native_byte_order\u001b[0m\u001b[0;34m=\u001b[0m\u001b[0mensure_native_byte_order\u001b[0m\u001b[0;34m)\u001b[0m\u001b[0;34m\u001b[0m\u001b[0;34m\u001b[0m\u001b[0m\n\u001b[1;32m    734\u001b[0m     \u001b[0;32melse\u001b[0m\u001b[0;34m:\u001b[0m\u001b[0;34m\u001b[0m\u001b[0;34m\u001b[0m\u001b[0m\n\u001b[0;32m--> 735\u001b[0;31m         \u001b[0;32mwith\u001b[0m \u001b[0mopen\u001b[0m\u001b[0;34m(\u001b[0m\u001b[0mfilename\u001b[0m\u001b[0;34m,\u001b[0m \u001b[0;34m\"rb\"\u001b[0m\u001b[0;34m)\u001b[0m \u001b[0;32mas\u001b[0m \u001b[0mf\u001b[0m\u001b[0;34m:\u001b[0m\u001b[0;34m\u001b[0m\u001b[0;34m\u001b[0m\u001b[0m\n\u001b[0m\u001b[1;32m    736\u001b[0m             with _validate_fileobject_and_memmap(f, filename, mmap_mode) as (\n\u001b[1;32m    737\u001b[0m                 \u001b[0mfobj\u001b[0m\u001b[0;34m,\u001b[0m\u001b[0;34m\u001b[0m\u001b[0;34m\u001b[0m\u001b[0m\n",
            "\u001b[0;31mFileNotFoundError\u001b[0m: [Errno 2] No such file or directory: '/mnt/data/disease_model.pkl'"
          ]
        }
      ]
    },
    {
      "cell_type": "code",
      "metadata": {
        "colab": {
          "base_uri": "https://localhost:8080/"
        },
        "id": "5a9ef6d2",
        "outputId": "abf36aaf-e13c-4c60-892e-d443f676a640"
      },
      "source": [
        "!uvicorn ipynb_server:app --reload --port 8000 &"
      ],
      "execution_count": null,
      "outputs": [
        {
          "output_type": "stream",
          "name": "stdout",
          "text": [
            "\u001b[32mINFO\u001b[0m:     Will watch for changes in these directories: ['/content']\n",
            "\u001b[32mINFO\u001b[0m:     Uvicorn running on \u001b[1mhttp://127.0.0.1:8000\u001b[0m (Press CTRL+C to quit)\n",
            "\u001b[32mINFO\u001b[0m:     Started reloader process [\u001b[36m\u001b[1m3023\u001b[0m] using \u001b[36m\u001b[1mStatReload\u001b[0m\n",
            "\u001b[31mERROR\u001b[0m:    Error loading ASGI app. Could not import module \"ipynb_server\".\n",
            "\u001b[32mINFO\u001b[0m:     Stopping reloader process [\u001b[36m\u001b[1m3023\u001b[0m]\n"
          ]
        }
      ]
    },
    {
      "cell_type": "markdown",
      "metadata": {
        "id": "8bba992e"
      },
      "source": [
        "The API is now running in the background on port 8000. You can now interact with it using tools like `curl` or by making requests from another application.\n",
        "\n",
        "For example, you can use `curl` to test the `/predict` endpoint:"
      ]
    },
    {
      "cell_type": "markdown",
      "metadata": {
        "id": "93a1943c"
      },
      "source": [
        "First, mount your Google Drive to access it from this notebook."
      ]
    },
    {
      "cell_type": "code",
      "metadata": {
        "id": "dad2efa8",
        "colab": {
          "base_uri": "https://localhost:8080/"
        },
        "outputId": "ac59b0c7-0837-4c28-da70-ef844bde1125"
      },
      "source": [
        "from google.colab import drive\n",
        "drive.mount('/content/drive')"
      ],
      "execution_count": 4,
      "outputs": [
        {
          "output_type": "stream",
          "name": "stdout",
          "text": [
            "Mounted at /content/drive\n"
          ]
        }
      ]
    },
    {
      "cell_type": "markdown",
      "metadata": {
        "id": "36f3a4d1"
      },
      "source": [
        "Now, copy the saved model artifacts from `/mnt/data/` to your Google Drive. You can specify the destination path in your Drive."
      ]
    },
    {
      "cell_type": "code",
      "metadata": {
        "id": "2fc7b616",
        "colab": {
          "base_uri": "https://localhost:8080/"
        },
        "outputId": "35084b93-7b6d-4786-dd0e-05ccd29e52d8"
      },
      "source": [
        "import os\n",
        "import shutil\n",
        "\n",
        "source_dir = \"/mnt/data\"\n",
        "destination_dir = \"/content/drive/MyDrive/DiseasePredictionArtifacts\" # You can change this path\n",
        "\n",
        "# Create the destination directory in Drive if it doesn't exist\n",
        "os.makedirs(destination_dir, exist_ok=True)\n",
        "\n",
        "# List of files to copy\n",
        "files_to_copy = [\"disease_model.pkl\", \"symptom_cols.pkl\", \"label_encoder.pkl\", \"merged_dataset.csv\"]\n",
        "\n",
        "# Copy each file\n",
        "for file_name in files_to_copy:\n",
        "    source_path = os.path.join(source_dir, file_name)\n",
        "    destination_path = os.path.join(destination_dir, file_name)\n",
        "    if os.path.exists(source_path):\n",
        "        shutil.copy2(source_path, destination_path)\n",
        "        print(f\"Copied {file_name} to {destination_dir}\")\n",
        "    else:\n",
        "        print(f\"Warning: {file_name} not found in {source_dir}\")\n",
        "\n",
        "print(\"\\nArtifacts copied to Google Drive.\")"
      ],
      "execution_count": 8,
      "outputs": [
        {
          "output_type": "stream",
          "name": "stdout",
          "text": [
            "Copied disease_model.pkl to /content/drive/MyDrive/DiseasePredictionArtifacts\n",
            "Copied symptom_cols.pkl to /content/drive/MyDrive/DiseasePredictionArtifacts\n",
            "Copied label_encoder.pkl to /content/drive/MyDrive/DiseasePredictionArtifacts\n",
            "Copied merged_dataset.csv to /content/drive/MyDrive/DiseasePredictionArtifacts\n",
            "\n",
            "Artifacts copied to Google Drive.\n"
          ]
        }
      ]
    }
  ]
}